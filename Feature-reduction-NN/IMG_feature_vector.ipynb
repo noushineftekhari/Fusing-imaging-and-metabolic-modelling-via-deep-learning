{
  "nbformat": 4,
  "nbformat_minor": 0,
  "metadata": {
    "colab": {
      "provenance": []
    },
    "kernelspec": {
      "name": "python3",
      "display_name": "Python 3"
    },
    "language_info": {
      "name": "python"
    }
  },
  "cells": [
    {
      "cell_type": "code",
      "metadata": {
        "id": "yURZA4KFCcOU",
        "colab": {
          "base_uri": "https://localhost:8080/"
        },
        "outputId": "9ac1bd7c-5f66-45c5-acaa-68a8e4709287"
      },
      "source": [
        "!pip install pycox"
      ],
      "execution_count": null,
      "outputs": [
        {
          "output_type": "stream",
          "name": "stdout",
          "text": [
            "Looking in indexes: https://pypi.org/simple, https://us-python.pkg.dev/colab-wheels/public/simple/\n",
            "Collecting pycox\n",
            "  Downloading pycox-0.2.3-py3-none-any.whl (73 kB)\n",
            "\u001b[K     |████████████████████████████████| 73 kB 1.4 MB/s \n",
            "\u001b[?25hCollecting py7zr>=0.11.3\n",
            "  Downloading py7zr-0.20.0-py3-none-any.whl (64 kB)\n",
            "\u001b[K     |████████████████████████████████| 64 kB 3.3 MB/s \n",
            "\u001b[?25hRequirement already satisfied: h5py>=2.9.0 in /usr/local/lib/python3.7/dist-packages (from pycox) (3.1.0)\n",
            "Requirement already satisfied: numba>=0.44 in /usr/local/lib/python3.7/dist-packages (from pycox) (0.56.0)\n",
            "Requirement already satisfied: scikit-learn>=0.21.2 in /usr/local/lib/python3.7/dist-packages (from pycox) (1.0.2)\n",
            "Requirement already satisfied: feather-format>=0.4.0 in /usr/local/lib/python3.7/dist-packages (from pycox) (0.4.1)\n",
            "Requirement already satisfied: requests>=2.22.0 in /usr/local/lib/python3.7/dist-packages (from pycox) (2.23.0)\n",
            "Collecting torchtuples>=0.2.0\n",
            "  Downloading torchtuples-0.2.2-py3-none-any.whl (41 kB)\n",
            "\u001b[K     |████████████████████████████████| 41 kB 762 kB/s \n",
            "\u001b[?25hRequirement already satisfied: pyarrow>=0.4.0 in /usr/local/lib/python3.7/dist-packages (from feather-format>=0.4.0->pycox) (6.0.1)\n",
            "Requirement already satisfied: cached-property in /usr/local/lib/python3.7/dist-packages (from h5py>=2.9.0->pycox) (1.5.2)\n",
            "Requirement already satisfied: numpy>=1.14.5 in /usr/local/lib/python3.7/dist-packages (from h5py>=2.9.0->pycox) (1.21.6)\n",
            "Requirement already satisfied: importlib-metadata in /usr/local/lib/python3.7/dist-packages (from numba>=0.44->pycox) (4.12.0)\n",
            "Requirement already satisfied: setuptools in /usr/local/lib/python3.7/dist-packages (from numba>=0.44->pycox) (57.4.0)\n",
            "Requirement already satisfied: llvmlite<0.40,>=0.39.0dev0 in /usr/local/lib/python3.7/dist-packages (from numba>=0.44->pycox) (0.39.0)\n",
            "Collecting brotli>=1.0.9\n",
            "  Downloading Brotli-1.0.9-cp37-cp37m-manylinux1_x86_64.whl (357 kB)\n",
            "\u001b[K     |████████████████████████████████| 357 kB 35.8 MB/s \n",
            "\u001b[?25hRequirement already satisfied: psutil in /usr/local/lib/python3.7/dist-packages (from py7zr>=0.11.3->pycox) (5.4.8)\n",
            "Collecting pycryptodomex>=3.6.6\n",
            "  Downloading pycryptodomex-3.15.0-cp35-abi3-manylinux2010_x86_64.whl (2.3 MB)\n",
            "\u001b[K     |████████████████████████████████| 2.3 MB 38.0 MB/s \n",
            "\u001b[?25hCollecting pyppmd<0.19.0,>=0.18.1\n",
            "  Downloading pyppmd-0.18.3-cp37-cp37m-manylinux_2_17_x86_64.manylinux2014_x86_64.whl (138 kB)\n",
            "\u001b[K     |████████████████████████████████| 138 kB 45.3 MB/s \n",
            "\u001b[?25hCollecting texttable\n",
            "  Downloading texttable-1.6.4-py2.py3-none-any.whl (10 kB)\n",
            "Collecting pybcj>=0.6.0\n",
            "  Downloading pybcj-1.0.1-cp37-cp37m-manylinux_2_17_x86_64.manylinux2014_x86_64.whl (50 kB)\n",
            "\u001b[K     |████████████████████████████████| 50 kB 6.2 MB/s \n",
            "\u001b[?25hCollecting pyzstd>=0.14.4\n",
            "  Downloading pyzstd-0.15.3-cp37-cp37m-manylinux_2_17_x86_64.manylinux2014_x86_64.whl (379 kB)\n",
            "\u001b[K     |████████████████████████████████| 379 kB 41.8 MB/s \n",
            "\u001b[?25hCollecting inflate64>=0.3.0\n",
            "  Downloading inflate64-0.3.0-cp37-cp37m-manylinux_2_17_x86_64.manylinux2014_x86_64.whl (92 kB)\n",
            "\u001b[K     |████████████████████████████████| 92 kB 9.7 MB/s \n",
            "\u001b[?25hCollecting multivolumefile>=0.2.3\n",
            "  Downloading multivolumefile-0.2.3-py3-none-any.whl (17 kB)\n",
            "Requirement already satisfied: urllib3!=1.25.0,!=1.25.1,<1.26,>=1.21.1 in /usr/local/lib/python3.7/dist-packages (from requests>=2.22.0->pycox) (1.24.3)\n",
            "Requirement already satisfied: certifi>=2017.4.17 in /usr/local/lib/python3.7/dist-packages (from requests>=2.22.0->pycox) (2022.6.15)\n",
            "Requirement already satisfied: idna<3,>=2.5 in /usr/local/lib/python3.7/dist-packages (from requests>=2.22.0->pycox) (2.10)\n",
            "Requirement already satisfied: chardet<4,>=3.0.2 in /usr/local/lib/python3.7/dist-packages (from requests>=2.22.0->pycox) (3.0.4)\n",
            "Requirement already satisfied: joblib>=0.11 in /usr/local/lib/python3.7/dist-packages (from scikit-learn>=0.21.2->pycox) (1.1.0)\n",
            "Requirement already satisfied: scipy>=1.1.0 in /usr/local/lib/python3.7/dist-packages (from scikit-learn>=0.21.2->pycox) (1.7.3)\n",
            "Requirement already satisfied: threadpoolctl>=2.0.0 in /usr/local/lib/python3.7/dist-packages (from scikit-learn>=0.21.2->pycox) (3.1.0)\n",
            "Requirement already satisfied: matplotlib>=3.0.3 in /usr/local/lib/python3.7/dist-packages (from torchtuples>=0.2.0->pycox) (3.2.2)\n",
            "Requirement already satisfied: pandas>=0.24.2 in /usr/local/lib/python3.7/dist-packages (from torchtuples>=0.2.0->pycox) (1.3.5)\n",
            "Requirement already satisfied: cycler>=0.10 in /usr/local/lib/python3.7/dist-packages (from matplotlib>=3.0.3->torchtuples>=0.2.0->pycox) (0.11.0)\n",
            "Requirement already satisfied: python-dateutil>=2.1 in /usr/local/lib/python3.7/dist-packages (from matplotlib>=3.0.3->torchtuples>=0.2.0->pycox) (2.8.2)\n",
            "Requirement already satisfied: pyparsing!=2.0.4,!=2.1.2,!=2.1.6,>=2.0.1 in /usr/local/lib/python3.7/dist-packages (from matplotlib>=3.0.3->torchtuples>=0.2.0->pycox) (3.0.9)\n",
            "Requirement already satisfied: kiwisolver>=1.0.1 in /usr/local/lib/python3.7/dist-packages (from matplotlib>=3.0.3->torchtuples>=0.2.0->pycox) (1.4.4)\n",
            "Requirement already satisfied: typing-extensions in /usr/local/lib/python3.7/dist-packages (from kiwisolver>=1.0.1->matplotlib>=3.0.3->torchtuples>=0.2.0->pycox) (4.1.1)\n",
            "Requirement already satisfied: pytz>=2017.3 in /usr/local/lib/python3.7/dist-packages (from pandas>=0.24.2->torchtuples>=0.2.0->pycox) (2022.2.1)\n",
            "Requirement already satisfied: six>=1.5 in /usr/local/lib/python3.7/dist-packages (from python-dateutil>=2.1->matplotlib>=3.0.3->torchtuples>=0.2.0->pycox) (1.15.0)\n",
            "Requirement already satisfied: zipp>=0.5 in /usr/local/lib/python3.7/dist-packages (from importlib-metadata->numba>=0.44->pycox) (3.8.1)\n",
            "Installing collected packages: texttable, pyzstd, pyppmd, pycryptodomex, pybcj, multivolumefile, inflate64, brotli, torchtuples, py7zr, pycox\n",
            "Successfully installed brotli-1.0.9 inflate64-0.3.0 multivolumefile-0.2.3 py7zr-0.20.0 pybcj-1.0.1 pycox-0.2.3 pycryptodomex-3.15.0 pyppmd-0.18.3 pyzstd-0.15.3 texttable-1.6.4 torchtuples-0.2.2\n"
          ]
        }
      ]
    },
    {
      "cell_type": "code",
      "metadata": {
        "id": "QKk9udgrtiud",
        "colab": {
          "base_uri": "https://localhost:8080/"
        },
        "outputId": "d227b4d8-f173-4fd6-8914-be7485ad3176"
      },
      "source": [
        "from google.colab import drive\n",
        "drive.mount('/content/drive')"
      ],
      "execution_count": null,
      "outputs": [
        {
          "output_type": "stream",
          "name": "stdout",
          "text": [
            "Mounted at /content/drive\n"
          ]
        }
      ]
    },
    {
      "cell_type": "code",
      "metadata": {
        "id": "Po7mklUwDEub",
        "colab": {
          "base_uri": "https://localhost:8080/"
        },
        "outputId": "d7b2246d-d09f-48e9-de1f-50ed52788132"
      },
      "source": [
        "!pip install torchtuples"
      ],
      "execution_count": null,
      "outputs": [
        {
          "output_type": "stream",
          "name": "stdout",
          "text": [
            "Looking in indexes: https://pypi.org/simple, https://us-python.pkg.dev/colab-wheels/public/simple/\n",
            "Requirement already satisfied: torchtuples in /usr/local/lib/python3.7/dist-packages (0.2.2)\n",
            "Requirement already satisfied: matplotlib>=3.0.3 in /usr/local/lib/python3.7/dist-packages (from torchtuples) (3.2.2)\n",
            "Requirement already satisfied: numpy>=1.15.4 in /usr/local/lib/python3.7/dist-packages (from torchtuples) (1.21.6)\n",
            "Requirement already satisfied: pandas>=0.24.2 in /usr/local/lib/python3.7/dist-packages (from torchtuples) (1.3.5)\n",
            "Requirement already satisfied: cycler>=0.10 in /usr/local/lib/python3.7/dist-packages (from matplotlib>=3.0.3->torchtuples) (0.11.0)\n",
            "Requirement already satisfied: kiwisolver>=1.0.1 in /usr/local/lib/python3.7/dist-packages (from matplotlib>=3.0.3->torchtuples) (1.4.4)\n",
            "Requirement already satisfied: python-dateutil>=2.1 in /usr/local/lib/python3.7/dist-packages (from matplotlib>=3.0.3->torchtuples) (2.8.2)\n",
            "Requirement already satisfied: pyparsing!=2.0.4,!=2.1.2,!=2.1.6,>=2.0.1 in /usr/local/lib/python3.7/dist-packages (from matplotlib>=3.0.3->torchtuples) (3.0.9)\n",
            "Requirement already satisfied: typing-extensions in /usr/local/lib/python3.7/dist-packages (from kiwisolver>=1.0.1->matplotlib>=3.0.3->torchtuples) (4.1.1)\n",
            "Requirement already satisfied: pytz>=2017.3 in /usr/local/lib/python3.7/dist-packages (from pandas>=0.24.2->torchtuples) (2022.2.1)\n",
            "Requirement already satisfied: six>=1.5 in /usr/local/lib/python3.7/dist-packages (from python-dateutil>=2.1->matplotlib>=3.0.3->torchtuples) (1.15.0)\n"
          ]
        }
      ]
    },
    {
      "cell_type": "code",
      "metadata": {
        "id": "Skbk4S0ECtu5"
      },
      "source": [
        "import torch\n",
        "import torchtuples as tt\n",
        "from sklearn import preprocessing\n",
        "from sklearn.preprocessing import StandardScaler\n",
        "from sklearn_pandas import DataFrameMapper\n",
        "\n",
        "from pycox.datasets import metabric\n",
        "from pycox.models import CoxPH\n",
        "from pycox.evaluation import EvalSurv\n",
        "\n",
        "import numpy as np\n",
        "import os\n",
        "import pandas as pd\n",
        "from typing import Optional"
      ],
      "execution_count": null,
      "outputs": []
    },
    {
      "cell_type": "code",
      "metadata": {
        "id": "8W_k9AouCvjC"
      },
      "source": [
        "np.random.seed(1234)\n",
        "_ = torch.manual_seed(123)"
      ],
      "execution_count": null,
      "outputs": []
    },
    {
      "cell_type": "markdown",
      "metadata": {
        "id": "_gW_i8HAHDAA"
      },
      "source": [
        "Load the Data"
      ]
    },
    {
      "cell_type": "code",
      "metadata": {
        "id": "rp9lvXOTDQbz"
      },
      "source": [
        "main_path = r'/content/drive/MyDrive'\n",
        "Survival_Data = pd.read_excel(os.path.join(main_path, 'survival-data/survival.xlsx'), sheet_name='TCGA-CDR', usecols=\"A,B,Y, Z\")\n",
        "#Survival_Data.dropna(inplace=True)\n",
        "img_list = pd.read_csv(os.path.join(main_path, 'Image-data/IMG-LIST.csv'))\n",
        "image = pd.merge(img_list, Survival_Data, on='EnsemblgeneID')\n",
        "#/content/drive/MyDrive/survival-data/survival.xlsx"
      ],
      "execution_count": null,
      "outputs": []
    },
    {
      "cell_type": "code",
      "metadata": {
        "id": "79Cl0sglf69S"
      },
      "source": [
        "import nibabel as nib\n",
        "\n",
        "from scipy import ndimage\n",
        "\n",
        "\n",
        "def read_nifti_file(filepath):\n",
        "    \"\"\"Read and load volume\"\"\"\n",
        "    # Read file\n",
        "    scan = nib.load(filepath)\n",
        "    # Get raw data\n",
        "    scan = scan.get_fdata()\n",
        "    return scan\n",
        "\n",
        "\n",
        "def normalize(volume):\n",
        "    \"\"\"Normalize the volume\"\"\"\n",
        "    min = -1024\n",
        "    max = 400\n",
        "    volume[volume < min] = min\n",
        "    volume[volume > max] = max\n",
        "    volume = (volume - min) / (max - min)\n",
        "    volume = volume.astype(\"float32\")\n",
        "    return volume\n",
        "\n",
        "\n",
        "def resize_volume(img):\n",
        "    \"\"\"Resize across z-axis\"\"\"\n",
        "    # Set the desired depth\n",
        "    desired_depth = 20\n",
        "    desired_width = 128\n",
        "    desired_height = 128\n",
        "    # Get current depth\n",
        "    current_depth = img.shape[-1]\n",
        "    current_width = img.shape[0]\n",
        "    current_height = img.shape[1]\n",
        "    # Compute depth factor\n",
        "    depth = current_depth / desired_depth\n",
        "    width = current_width / desired_width\n",
        "    height = current_height / desired_height\n",
        "    depth_factor = 1 / depth\n",
        "    width_factor = 1 / width\n",
        "    height_factor = 1 / height\n",
        "    # Rotate\n",
        "    img = ndimage.rotate(img, 90, reshape=False)\n",
        "    # Resize across z-axis\n",
        "    img = ndimage.zoom(img, (width_factor, height_factor, depth_factor), order=1)\n",
        "    return img\n",
        "\n",
        "\n",
        "def process_scan(path):\n",
        "    \"\"\"Read and resize volume\"\"\"\n",
        "    # Read scan\n",
        "    volume = read_nifti_file(path)\n",
        "    # Normalize\n",
        "    volume = normalize(volume)\n",
        "    # Resize width, height and depth\n",
        "    volume = resize_volume(volume)\n",
        "    volume = volume.T\n",
        "    return volume"
      ],
      "execution_count": null,
      "outputs": []
    },
    {
      "cell_type": "code",
      "metadata": {
        "id": "4qygs55senNv",
        "colab": {
          "base_uri": "https://localhost:8080/"
        },
        "outputId": "24c15dfc-0a45-4a83-c135-3aa7259200cd"
      },
      "source": [
        "abnormal_scan_paths = [\n",
        "    os.path.join(main_path, \"Image-data/CT_patch\", x)\n",
        "    for x in os.listdir(os.path.join(main_path, \"Image-data/CT_patch\"))\n",
        "]\n",
        "\n",
        "print(\"CT scans with abnormal lung tissue: \" + str(len(abnormal_scan_paths)))"
      ],
      "execution_count": null,
      "outputs": [
        {
          "output_type": "stream",
          "name": "stdout",
          "text": [
            "CT scans with abnormal lung tissue: 90\n"
          ]
        }
      ]
    },
    {
      "cell_type": "code",
      "metadata": {
        "id": "RJBci1-2eZF8"
      },
      "source": [
        "abnormal_scans = np.array([process_scan(path) for path in abnormal_scan_paths])\n",
        "\n",
        "patient_name = []\n",
        "abnormal_labels = np.zeros([len(abnormal_scan_paths), 2])\n",
        "for i in range(len(abnormal_scan_paths)):\n",
        "    str1 = str.split(abnormal_scan_paths[i], '/')[-1]\n",
        "    index = np.where(Survival_Data.values[:, 0] == str.split(str1, '.')[0])[0]\n",
        "    patient_name.append(Survival_Data.values[index, 0])#\n",
        "    abnormal_labels[i, :] = Survival_Data.values[index, 2:4]#\n",
        "\n",
        "\n"
      ],
      "execution_count": null,
      "outputs": []
    },
    {
      "cell_type": "code",
      "metadata": {
        "colab": {
          "base_uri": "https://localhost:8080/"
        },
        "id": "1eE42qRega2-",
        "outputId": "74f84fef-ca00-4b08-8445-7f9345902634"
      },
      "source": [
        "abnormal_scans.shape"
      ],
      "execution_count": null,
      "outputs": [
        {
          "output_type": "execute_result",
          "data": {
            "text/plain": [
              "(90, 20, 128, 128)"
            ]
          },
          "metadata": {},
          "execution_count": 10
        }
      ]
    },
    {
      "cell_type": "code",
      "metadata": {
        "id": "el-evcgBhu5D",
        "colab": {
          "base_uri": "https://localhost:8080/"
        },
        "outputId": "cf6e9a57-f6b3-47e3-d375-adcb19426ffd"
      },
      "source": [
        "X= abnormal_scans\n",
        "y = abnormal_labels\n",
        "#y_train = tuple([y_train[:, 0], y_train[:, 1]])\n",
        "print(\"Number of samples in train are %d.\" % (X.shape[0]))"
      ],
      "execution_count": null,
      "outputs": [
        {
          "output_type": "stream",
          "name": "stdout",
          "text": [
            "Number of samples in train are 90.\n"
          ]
        }
      ]
    },
    {
      "cell_type": "code",
      "metadata": {
        "id": "N_fSAvCNkD4z"
      },
      "source": [
        "X = np.expand_dims(X, axis=1)"
      ],
      "execution_count": null,
      "outputs": []
    },
    {
      "cell_type": "code",
      "metadata": {
        "colab": {
          "base_uri": "https://localhost:8080/"
        },
        "id": "dnPG8zx5gg8j",
        "outputId": "fa7e1bac-eafc-4a34-e571-24d0d12d06a4"
      },
      "source": [
        "X.shape"
      ],
      "execution_count": null,
      "outputs": [
        {
          "output_type": "execute_result",
          "data": {
            "text/plain": [
              "(90, 1, 20, 128, 128)"
            ]
          },
          "metadata": {},
          "execution_count": 13
        }
      ]
    },
    {
      "cell_type": "markdown",
      "metadata": {
        "id": "0xVCI3-ivViV"
      },
      "source": [
        "Define the model"
      ]
    },
    {
      "cell_type": "code",
      "metadata": {
        "colab": {
          "base_uri": "https://localhost:8080/"
        },
        "id": "gzVV4-83-zys",
        "outputId": "03adac6b-a54f-4880-a3c1-38010c5da9a5"
      },
      "source": [
        "import torch\n",
        "import torch.nn as nn\n",
        "import torch.nn.functional as F\n",
        "\n",
        "class CNN(nn.Module):\n",
        "    def __init__(self):\n",
        "        super(CNN, self).__init__()\n",
        "        self.conv1 = nn.Conv3d(in_channels=1, out_channels=10, kernel_size=3)\n",
        "        self.conv2 = nn.Conv3d(10, 20, kernel_size=3)\n",
        "        self.conv2_drop = nn.Dropout3d()\n",
        "        self.fc1 = nn.Linear(54000, 32)\n",
        "        self.fc2 = nn.Linear(32, 1)\n",
        "\n",
        "    def forward(self, x):\n",
        "        # print(x.shape)\n",
        "        x = F.relu(F.max_pool3d(self.conv1(x), 2))\n",
        "        x = F.relu(F.max_pool3d(self.conv2_drop(self.conv2(x)), 2))\n",
        "        x = x.view(x.shape[0],-1)\n",
        "        x = F.relu(self.fc1(x))\n",
        "        x = F.dropout(x, training=self.training)\n",
        "        x = self.fc2(x)\n",
        "        return x\n",
        "\n",
        "net = CNN()\n",
        "print(net)"
      ],
      "execution_count": null,
      "outputs": [
        {
          "output_type": "stream",
          "name": "stdout",
          "text": [
            "CNN(\n",
            "  (conv1): Conv3d(1, 10, kernel_size=(3, 3, 3), stride=(1, 1, 1))\n",
            "  (conv2): Conv3d(10, 20, kernel_size=(3, 3, 3), stride=(1, 1, 1))\n",
            "  (conv2_drop): Dropout3d(p=0.5, inplace=False)\n",
            "  (fc1): Linear(in_features=54000, out_features=32, bias=True)\n",
            "  (fc2): Linear(in_features=32, out_features=1, bias=True)\n",
            ")\n"
          ]
        }
      ]
    },
    {
      "cell_type": "code",
      "source": [
        "class ConvNet(nn.Module):\n",
        "    def __init__(self,h1=96):\n",
        "        # We optimize dropout rate in a convolutional neural network.\n",
        "        super(ConvNet, self).__init__()\n",
        "\n",
        "        self.conv1 = nn.Conv3d(in_channels=1, out_channels=16, kernel_size=5, stride=1, padding=2)\n",
        "        self.conv2 = nn.Conv3d(in_channels=16, out_channels=32, kernel_size=5, stride=1, padding=2)\n",
        "        self.drop1=nn.Dropout3d(p=0.5)\n",
        "\n",
        "        self.fc1 = nn.Linear(32 * 7 * 7, h1)\n",
        "        self.drop2=nn.Dropout3d(p=0.1)\n",
        "        self.fc2 = nn.Linear(h1, 10)\n",
        "\n",
        "    def forward(self, x):\n",
        "        x = F.relu(F.max_pool3d(self.conv1(x),kernel_size = 2))\n",
        "        x = F.relu(F.max_pool3d(self.conv2(x),kernel_size = 2))\n",
        "        x = self.drop1(x)\n",
        "\n",
        "        x = x.view(x.size(0),-1)\n",
        "\n",
        "        x = F.relu(self.fc1(x))\n",
        "        x = self.drop2(x)\n",
        "        return self.fc2(x)"
      ],
      "metadata": {
        "id": "irwYQVrJMBxr"
      },
      "execution_count": null,
      "outputs": []
    },
    {
      "cell_type": "code",
      "source": [
        "def get_features(name):\n",
        "    def hook(model, input, output):\n",
        "        features[name] = output.detach()\n",
        "    return hook\n",
        "#get_target = lambda df_clinic: (df_clinic['OS.time'].values, df_clinic['OS'].values)"
      ],
      "metadata": {
        "id": "lLZ0dc26NeN5"
      },
      "execution_count": null,
      "outputs": []
    },
    {
      "cell_type": "code",
      "source": [
        "\n",
        "from sklearn.model_selection import train_test_split\n",
        "from sklearn.model_selection import KFold\n",
        "in_features = X.shape[1]\n",
        "verbose = True\n",
        "batch_size = 8\n",
        "epochs = 50\n",
        "out_features = 1\n",
        "index_test = []\n",
        "feature_vectore = np.zeros([0, 32], dtype=np.float32)\n",
        "\n",
        "cv = KFold(n_splits=3, shuffle=True, random_state=10)\n",
        "i=1\n",
        "for train_ix, test_ix in cv.split(X):\n",
        "\n",
        "\t# split data\n",
        "\tx_train, X_test = X[train_ix, :], X[test_ix, :]\n",
        "\ty_train, y_test = y[train_ix, :],y[test_ix, :]\n",
        "  #tuple([y[train_ix, 0], y[train_ix, 1]]),tuple([y[test_ix, 0], y[test_ix, 1]])\n",
        "\t# get validation set\n",
        "\tX_train, X_val, y_train, y_val = train_test_split(x_train, y_train, test_size=0.3, random_state=10)\n",
        "\n",
        "\t# Normalise data\n",
        "\t#X_train,X_val,X_test = normalize(X_train,X_val,X_test)\n",
        "\t#X_test = normalize(X_test)\n",
        "\t#X_val = normalize(X_val)\n",
        "\t#print('Train, val, test shape run:', i, X_train.shape, X_val.shape, X_test.shape)\n",
        "\n",
        "\t# convert to event + duration\n",
        "\ty_train = tuple([y_train[:, 0], y_train[:, 1]])\n",
        "\ty_test = tuple([y_test[:, 0], y_test[:, 1]])\n",
        "\ty_val = tuple([y_val[:, 0], y_val[:, 1]])\n",
        "\tval_g = X_val, y_val\n",
        "\tdurations_test, events_test = y_test[0][:], y_test[1][:]\n",
        "\t# Model\n",
        "\ttorch.manual_seed(56)\n",
        "\tnet = CNN()\n",
        " # print(net)\n",
        "\t# Same output number\n",
        "\tmodel = CoxPH(net, tt.optim.Adam)\n",
        "\t# model.optimizer.set_lr(0.01)\n",
        "\tmodel.optimizer.set_lr(1e-4)\n",
        "\t# lrfinder = model.lr_finder(X_train, y_train, batch_size, tolerance=10)\n",
        "\t# lrfinder.get_best_lr()\n",
        "\n",
        "\n",
        "\tcallbacks = [tt.callbacks.EarlyStopping()]\n",
        "\n",
        "\tlog = model.fit(X_train, y_train, batch_size, epochs, callbacks, verbose, val_data=val_g, val_batch_size=batch_size)\n",
        "\n",
        "\t_ = log.plot()\n",
        "\n",
        "\tfeatures = {}\n",
        "\tmodel.net.fc1.register_forward_hook(get_features('fc1'))\n",
        "\t_ = model.compute_baseline_hazards()\n",
        "\tsurv = model.predict_surv_df(X_test)\n",
        "\n",
        "\t#  Feature extraction\n",
        "\textracted = features['fc1'].cpu().numpy()\n",
        "\tfeature_vectore = np.append(feature_vectore, extracted, axis=0)\n",
        "\n",
        "\tev = EvalSurv(surv, durations_test, events_test, censor_surv='km')\n",
        "\tprint(i, \"Image C-Index\", ev.concordance_td())\n",
        "\ti+=1\n",
        "\tindex_test = np.append(index_test, test_ix)\n",
        "\n",
        "\n",
        "\n",
        "\n"
      ],
      "metadata": {
        "colab": {
          "base_uri": "https://localhost:8080/",
          "height": 1000
        },
        "id": "NNOV9l_ENSWD",
        "outputId": "5dd1ca85-f33b-4226-dfb2-53aa865ebcbf"
      },
      "execution_count": null,
      "outputs": [
        {
          "output_type": "stream",
          "name": "stdout",
          "text": [
            "0:\t[11s / 11s],\t\ttrain_loss: 1.1446,\tval_loss: 1.0018\n",
            "1:\t[9s / 20s],\t\ttrain_loss: 1.1597,\tval_loss: 0.9979\n",
            "2:\t[9s / 29s],\t\ttrain_loss: 1.2444,\tval_loss: 0.9911\n",
            "3:\t[9s / 39s],\t\ttrain_loss: 1.2328,\tval_loss: 0.9966\n",
            "4:\t[9s / 48s],\t\ttrain_loss: 1.0655,\tval_loss: 0.9984\n",
            "5:\t[9s / 58s],\t\ttrain_loss: 1.1036,\tval_loss: 0.9969\n",
            "6:\t[9s / 1m:7s],\t\ttrain_loss: 1.3017,\tval_loss: 0.9995\n",
            "7:\t[14s / 1m:22s],\t\ttrain_loss: 1.1963,\tval_loss: 1.0073\n",
            "8:\t[9s / 1m:31s],\t\ttrain_loss: 1.2253,\tval_loss: 1.0075\n",
            "9:\t[9s / 1m:40s],\t\ttrain_loss: 1.2097,\tval_loss: 1.0031\n",
            "10:\t[9s / 1m:50s],\t\ttrain_loss: 1.2537,\tval_loss: 1.0010\n",
            "11:\t[9s / 1m:59s],\t\ttrain_loss: 1.1800,\tval_loss: 1.0076\n",
            "12:\t[9s / 2m:8s],\t\ttrain_loss: 1.0990,\tval_loss: 1.0110\n",
            "1 Image C-Index 0.6944444444444444\n",
            "0:\t[8s / 8s],\t\ttrain_loss: 1.1469,\tval_loss: 0.8280\n",
            "1:\t[8s / 16s],\t\ttrain_loss: 1.1711,\tval_loss: 0.8248\n",
            "2:\t[8s / 25s],\t\ttrain_loss: 1.1699,\tval_loss: 0.8214\n",
            "3:\t[8s / 33s],\t\ttrain_loss: 1.2420,\tval_loss: 0.8201\n",
            "4:\t[7s / 41s],\t\ttrain_loss: 1.2147,\tval_loss: 0.8191\n",
            "5:\t[8s / 49s],\t\ttrain_loss: 1.2379,\tval_loss: 0.8198\n",
            "6:\t[8s / 57s],\t\ttrain_loss: 1.2502,\tval_loss: 0.8200\n",
            "7:\t[8s / 1m:5s],\t\ttrain_loss: 1.1818,\tval_loss: 0.8235\n",
            "8:\t[7s / 1m:13s],\t\ttrain_loss: 1.1631,\tval_loss: 0.8248\n",
            "9:\t[8s / 1m:21s],\t\ttrain_loss: 1.3325,\tval_loss: 0.8238\n",
            "10:\t[7s / 1m:29s],\t\ttrain_loss: 1.1886,\tval_loss: 0.8237\n",
            "11:\t[8s / 1m:37s],\t\ttrain_loss: 1.1588,\tval_loss: 0.8255\n",
            "12:\t[8s / 1m:45s],\t\ttrain_loss: 1.1369,\tval_loss: 0.8262\n",
            "13:\t[7s / 1m:53s],\t\ttrain_loss: 1.1354,\tval_loss: 0.8246\n",
            "14:\t[7s / 2m:1s],\t\ttrain_loss: 1.2139,\tval_loss: 0.8219\n",
            "2 Image C-Index 0.7095238095238096\n",
            "0:\t[8s / 8s],\t\ttrain_loss: 1.1536,\tval_loss: 1.0598\n",
            "1:\t[8s / 16s],\t\ttrain_loss: 1.1358,\tval_loss: 1.0617\n",
            "2:\t[7s / 24s],\t\ttrain_loss: 1.1569,\tval_loss: 1.0596\n",
            "3:\t[8s / 32s],\t\ttrain_loss: 1.0671,\tval_loss: 1.0570\n",
            "4:\t[8s / 40s],\t\ttrain_loss: 1.1190,\tval_loss: 1.0484\n",
            "5:\t[8s / 48s],\t\ttrain_loss: 1.0920,\tval_loss: 1.0421\n",
            "6:\t[8s / 56s],\t\ttrain_loss: 1.0955,\tval_loss: 1.0392\n",
            "7:\t[8s / 1m:4s],\t\ttrain_loss: 1.1568,\tval_loss: 1.0368\n",
            "8:\t[7s / 1m:12s],\t\ttrain_loss: 1.1548,\tval_loss: 1.0421\n",
            "9:\t[8s / 1m:20s],\t\ttrain_loss: 1.1102,\tval_loss: 1.0410\n",
            "10:\t[8s / 1m:28s],\t\ttrain_loss: 1.0546,\tval_loss: 1.0338\n",
            "11:\t[8s / 1m:36s],\t\ttrain_loss: 1.0191,\tval_loss: 1.0344\n",
            "12:\t[7s / 1m:44s],\t\ttrain_loss: 1.0780,\tval_loss: 1.0288\n",
            "13:\t[7s / 1m:52s],\t\ttrain_loss: 1.0935,\tval_loss: 1.0303\n",
            "14:\t[8s / 2m:0s],\t\ttrain_loss: 1.1201,\tval_loss: 1.0292\n",
            "15:\t[7s / 2m:8s],\t\ttrain_loss: 1.0333,\tval_loss: 1.0320\n",
            "16:\t[7s / 2m:16s],\t\ttrain_loss: 1.0390,\tval_loss: 1.0280\n",
            "17:\t[8s / 2m:25s],\t\ttrain_loss: 1.0469,\tval_loss: 1.0293\n",
            "18:\t[9s / 2m:34s],\t\ttrain_loss: 1.1264,\tval_loss: 1.0326\n",
            "19:\t[8s / 2m:42s],\t\ttrain_loss: 0.9895,\tval_loss: 1.0306\n",
            "20:\t[8s / 2m:51s],\t\ttrain_loss: 1.0545,\tval_loss: 1.0243\n",
            "21:\t[8s / 2m:59s],\t\ttrain_loss: 1.0123,\tval_loss: 1.0145\n",
            "22:\t[8s / 3m:7s],\t\ttrain_loss: 0.9156,\tval_loss: 1.0041\n",
            "23:\t[8s / 3m:15s],\t\ttrain_loss: 1.1170,\tval_loss: 1.0108\n",
            "24:\t[8s / 3m:23s],\t\ttrain_loss: 1.0795,\tval_loss: 1.0201\n",
            "25:\t[8s / 3m:31s],\t\ttrain_loss: 0.9471,\tval_loss: 1.0272\n",
            "26:\t[8s / 3m:39s],\t\ttrain_loss: 0.9652,\tval_loss: 1.0303\n",
            "27:\t[8s / 3m:47s],\t\ttrain_loss: 1.0403,\tval_loss: 1.0232\n",
            "28:\t[7s / 3m:55s],\t\ttrain_loss: 1.0797,\tval_loss: 1.0278\n",
            "29:\t[8s / 4m:3s],\t\ttrain_loss: 0.9757,\tval_loss: 1.0260\n",
            "30:\t[8s / 4m:11s],\t\ttrain_loss: 1.0127,\tval_loss: 1.0265\n",
            "31:\t[8s / 4m:20s],\t\ttrain_loss: 1.1265,\tval_loss: 1.0253\n",
            "32:\t[8s / 4m:28s],\t\ttrain_loss: 0.9884,\tval_loss: 1.0248\n",
            "3 Image C-Index 0.9291187739463601\n"
          ]
        },
        {
          "output_type": "display_data",
          "data": {
            "text/plain": [
              "<Figure size 432x288 with 1 Axes>"
            ],
            "image/png": "[encoded data removed]"
          },
          "metadata": {
            "needs_background": "light"
          }
        },
        {
          "output_type": "display_data",
          "data": {
            "text/plain": [
              "<Figure size 432x288 with 1 Axes>"
            ],
            "image/png": "[encoded data removed]"
          },
          "metadata": {
            "needs_background": "light"
          }
        },
        {
          "output_type": "display_data",
          "data": {
            "text/plain": [
              "<Figure size 432x288 with 1 Axes>"
            ],
            "image/png": "[encoded data removed]"
          },
          "metadata": {
            "needs_background": "light"
          }
        }
      ]
    },
    {
      "cell_type": "code",
      "metadata": {
        "id": "S_I0NICpuyzZ"
      },
      "source": [
        "#patient_name"
      ],
      "execution_count": null,
      "outputs": []
    },
    {
      "cell_type": "code",
      "metadata": {
        "id": "GDlwb4oXuvPM"
      },
      "source": [
        "#bb=np.concatenate((patient_name,X_validation_feature), axis=1)\n",
        "#np.savetxt(\"/content/drive/MyDrive/Feature-vector/patient_IMG_83.csv\", bb, delimiter=\",\",fmt='%s')"
      ],
      "execution_count": null,
      "outputs": []
    }
  ]
}